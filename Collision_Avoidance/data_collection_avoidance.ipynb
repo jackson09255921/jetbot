{
 "cells": [
  {
   "cell_type": "markdown",
   "metadata": {},
   "source": [
    "**<font color = black size = 5>Initial component and camera cennect</font>**"
   ]
  },
  {
   "cell_type": "code",
   "execution_count": null,
   "metadata": {},
   "outputs": [],
   "source": [
    "import traitlets\n",
    "import ipywidgets.widgets as widgets\n",
    "from IPython.display import display\n",
    "from jetbot import Camera, bgr8_to_jpeg\n",
    "import os\n",
    "from uuid import uuid1\n",
    "\n",
    "camera = Camera.instance(width=224, height=224)\n",
    "image = widgets.Image(format='jpeg', width=224, height=224)\n",
    "camera_link = traitlets.dlink((camera, 'value'), (image, 'value'), transform=bgr8_to_jpeg)\n",
    "display(image)"
   ]
  },
  {
   "cell_type": "code",
   "execution_count": 2,
   "metadata": {},
   "outputs": [],
   "source": [
    "camera.stop()"
   ]
  },
  {
   "cell_type": "markdown",
   "metadata": {},
   "source": [
    "**<font size = 5 color = black>Make dataset to store block and free picture</font>**"
   ]
  },
  {
   "cell_type": "code",
   "execution_count": null,
   "metadata": {
    "tags": []
   },
   "outputs": [],
   "source": [
    "block_dir = 'dataset_avoidance_v2/block'\n",
    "free_dir = 'dataset_avoidance_v2/free'\n",
    "\n",
    "try:\n",
    "    os.makedirs(block_dir)\n",
    "    os.makedirs(free_dir)\n",
    "except FileExistsError:\n",
    "    print(\"The directory is exist!!\")"
   ]
  },
  {
   "cell_type": "markdown",
   "metadata": {},
   "source": [
    "**<font size = 5 color =  black> GUI setting</font>**"
   ]
  },
  {
   "cell_type": "code",
   "execution_count": 4,
   "metadata": {},
   "outputs": [],
   "source": [
    "button_layout = widgets.Layout(width='128px', height='64px')\n",
    "free_button = widgets.Button(description='add free', button_style='primary', layout=button_layout)\n",
    "block_button = widgets.Button(description='add block', button_style='warning', layout=button_layout)\n",
    "free_count = widgets.IntText(value=len(os.listdir(free_dir)),layout=button_layout)\n",
    "block_count = widgets.IntText(value=len(os.listdir(block_dir)),layout=button_layout)"
   ]
  },
  {
   "cell_type": "markdown",
   "metadata": {},
   "source": [
    "**<font size = 5 color =  blue> Frame Capturing</font>**"
   ]
  },
  {
   "cell_type": "code",
   "execution_count": 5,
   "metadata": {},
   "outputs": [
    {
     "data": {
      "application/vnd.jupyter.widget-view+json": {
       "model_id": "d9494be436334349b70afc354bd85433",
       "version_major": 2,
       "version_minor": 0
      },
      "text/plain": [
       "Image(value=b'\\xff\\xd8\\xff\\xe0\\x00\\x10JFIF\\x00\\x01\\x01\\x00\\x00\\x01\\x00\\x01\\x00\\x00\\xff\\xdb\\x00C\\x00\\x02\\x01\\x0…"
      ]
     },
     "metadata": {},
     "output_type": "display_data"
    },
    {
     "data": {
      "application/vnd.jupyter.widget-view+json": {
       "model_id": "f30b540d39f44b28bcb3237452feef9d",
       "version_major": 2,
       "version_minor": 0
      },
      "text/plain": [
       "VBox(children=(HBox(children=(IntText(value=500, layout=Layout(height='64px', width='128px')), IntText(value=5…"
      ]
     },
     "metadata": {},
     "output_type": "display_data"
    }
   ],
   "source": [
    "def save_snapshot(directory):\n",
    "    image_path=os.path.join(directory, str(uuid1()) +'.jpg')\n",
    "    with open(image_path, 'wb') as f:\n",
    "        f.write(image.value)\n",
    "        \n",
    "def save_free():\n",
    "    global free_dir, free_count\n",
    "    save_snapshot(free_dir)\n",
    "    free_count.value=len(os.listdir(free_dir))\n",
    "    \n",
    "def save_block():\n",
    "    global block_dir, block_count\n",
    "    save_snapshot(block_dir)\n",
    "    block_count.value=len(os.listdir(block_dir))\n",
    "\n",
    "free_button.on_click(lambda x:save_free())\n",
    "block_button.on_click(lambda x:save_block())\n",
    "\n",
    "camera.start()\n",
    "display(image)\n",
    "display(widgets.VBox([widgets.HBox([free_count, block_count]), widgets.HBox([free_button, block_button])]))"
   ]
  },
  {
   "cell_type": "markdown",
   "metadata": {},
   "source": [
    "**<font size = 5, color = black>Remember to stop the camera</font>**"
   ]
  },
  {
   "cell_type": "code",
   "execution_count": 6,
   "metadata": {},
   "outputs": [],
   "source": [
    "camera.stop()"
   ]
  },
  {
   "cell_type": "code",
   "execution_count": 1,
   "metadata": {},
   "outputs": [],
   "source": [
    "DATASET_DIR = 'dataset_avoidance_v2'\n",
    "\n",
    "\n",
    "!zip -r -q {DATASET_DIR}.zip {DATASET_DIR}"
   ]
  },
  {
   "cell_type": "code",
   "execution_count": null,
   "metadata": {},
   "outputs": [],
   "source": [
    "import cv2\n",
    "import os\n",
    "\n",
    "DATASET_DIR = 'dataset_avoidance_v2'\n",
    "try:\n",
    "    os.makedirs(DATASET_DIR)\n",
    "except FileExistsError:\n",
    "    print(\"The directory is exist!!\")\n",
    "\n",
    "img = cv2.imread(dataset_avoidance/, 0)\n",
    "img = cv2.medianBlur(img, 5)\n",
    "img = cv2.adaptiveThread(img, 255, cv2.ADAPTIVE_THRESH_GAUSSIAN_C, cv2.THRESH_BINARY, 11, 2)\n",
    "cv2.imwrite(\"DATASET_DIR\" + image, img)    "
   ]
  },
  {
   "cell_type": "code",
   "execution_count": null,
   "metadata": {},
   "outputs": [],
   "source": []
  }
 ],
 "metadata": {
  "kernelspec": {
   "display_name": "Python 3",
   "language": "python",
   "name": "python3"
  },
  "language_info": {
   "codemirror_mode": {
    "name": "ipython",
    "version": 3
   },
   "file_extension": ".py",
   "mimetype": "text/x-python",
   "name": "python",
   "nbconvert_exporter": "python",
   "pygments_lexer": "ipython3",
   "version": "3.6.9"
  }
 },
 "nbformat": 4,
 "nbformat_minor": 4
}
