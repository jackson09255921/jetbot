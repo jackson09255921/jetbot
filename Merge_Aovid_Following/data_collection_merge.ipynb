{
 "cells": [
  {
   "cell_type": "markdown",
   "metadata": {},
   "source": [
    "**<font color = black size = 5>All of the component in the data collection<font>**"
   ]
  },
  {
   "cell_type": "code",
   "execution_count": 1,
   "metadata": {},
   "outputs": [],
   "source": [
    "# IPython Libraries for display and widgets\n",
    "import traitlets\n",
    "import ipywidgets.widgets as widgets\n",
    "from IPython.display import display\n",
    "\n",
    "# Camera and Motor Interface for JetBot\n",
    "from jetbot import Robot, Camera, bgr8_to_jpeg\n",
    "\n",
    "# Python basic pakcages for image annotation\n",
    "from uuid import uuid1\n",
    "import os\n",
    "import json\n",
    "\n",
    "import glob\n",
    "import datetime\n",
    "import numpy as np\n",
    "import cv2\n",
    "import time"
   ]
  },
  {
   "cell_type": "markdown",
   "metadata": {},
   "source": [
    " **<font size = 5>Make Directory for Data</font>**"
   ]
  },
  {
   "cell_type": "code",
   "execution_count": null,
   "metadata": {},
   "outputs": [],
   "source": [
    "DATASET_DIR = 'dataset_merge_v3'\n",
    "block_dir =os.path.join(DATASET_DIR, 'block')\n",
    "free_dir = os.path.join(DATASET_DIR, 'free')\n",
    "\n",
    "\n",
    "try:\n",
    "    os.makedirs(block_dir)\n",
    "    os.makedirs(free_dir)\n",
    "except FileExistsError:\n",
    "    print('Directories not created because they already exist')"
   ]
  },
  {
   "cell_type": "markdown",
   "metadata": {},
   "source": [
    "**<font size = 5>Get Camera Image And Button</font>**"
   ]
  },
  {
   "cell_type": "code",
   "execution_count": null,
   "metadata": {},
   "outputs": [],
   "source": [
    "camera = Camera.instance(width=224, height=224,fps=1)\n",
    "\n",
    "image_widget = widgets.Image(format='jpeg', width=224, height=224)\n",
    "target_widget = widgets.Image(format='jpeg', width=224, height=224)\n",
    "\n",
    "leftBottom = widgets.FloatSlider(min =-2.0, max=2.0, step=0.01, description='leftButtom')\n",
    "leftTop = widgets.FloatSlider(min =-2.0, max=2.0, step=0.01, description='leftTop')\n",
    "rightBottom = widgets.FloatSlider(min =-2.0, max=2.0, step=0.01, description='rightButtom')\n",
    "rightTop = widgets.FloatSlider(min =-2.0, max=2.0, step=0.01, description='rightTop')                               \n",
    "                                \n",
    "def display_xy(camera_image):\n",
    "    image = np.copy(camera_image)\n",
    "    \n",
    "    image = cv2.cvtColor(image, cv2.COLOR_BGR2GRAY)\n",
    "    # ret, image = cv2.threshold(image, 127, 255, cv2.THRESH_BINARY_INV)\n",
    "    image = cv2.GaussianBlur(image, (5,5), 0)\n",
    "    # image = cv2.GaussianBlur(image, (5,5), 0)\n",
    "    image = cv2.Canny(image, 130, 150)\n",
    "     \n",
    "#     rho = 1\n",
    "#     theta = np.pi / 180\n",
    "#     threshold = 1\n",
    "#     min_line_length = 10\n",
    "#     max_line_gap = 1\n",
    "    \n",
    "#     line_image = np.copy(image) * 0\n",
    "#     lines = cv2.HoughLinesP(image, rho, theta, threshold, np.array([]), min_line_length, max_line_gap)\n",
    "    \n",
    "#     for x1, y1, x2, y2 in lines[0]:\n",
    "#         cv2.line(line_image, (x1, y1), (x2, y2), (255, 255, 255), 10)\n",
    "    \n",
    "#     image = cv2.addWeighted(image, 0.8, line_image, 1, 0) \n",
    "    \n",
    "    LB = leftBottom.value\n",
    "    LT = leftTop.value\n",
    "    RB = rightBottom.value\n",
    "    RT = rightTop.value\n",
    "\n",
    "    LB = int (LB * 224 / 2 + 112) \n",
    "    LT = int (LT * 224 / 2 + 112)                            \n",
    "    RB = int (RB * 224 / 2 + 112)                            \n",
    "    RT = int (RT * 224 / 2 + 112)     \n",
    "    CB = int((LB + RB) / 2)\n",
    "    CT = int((LT + RT) / 2)\n",
    "    CC = int((CB + CT) / 2)\n",
    "                               \n",
    "    image = cv2.line(image, (LB, 224), (LT, 0), (255, 0 ,0), 2)\n",
    "    image = cv2.line(image, (RB, 224), (RT, 0), (255, 0, 0), 2)\n",
    "    image = cv2.line(image, (CB, 224), (CT, 0), (255, 0, 0), 2)\n",
    "    image = cv2.circle(image, (CC, 112),8, (255, 0, 0), 2)   \n",
    "    \n",
    "    jpeg_image = bgr8_to_jpeg(image)\n",
    "    # print(x, y)\n",
    "    return jpeg_image\n",
    "\n",
    "# time.sleep(10)\n",
    "traitlets.dlink((camera, 'value'), (image_widget, 'value'), transform=bgr8_to_jpeg)\n",
    "traitlets.dlink((camera, 'value'), (target_widget, 'value'), transform=display_xy)"
   ]
  },
  {
   "cell_type": "markdown",
   "metadata": {},
   "source": [
    "**<font size = 5 color = blue> Start to Collect the Data(Including the number of picture)</font>**"
   ]
  },
  {
   "cell_type": "code",
   "execution_count": 4,
   "metadata": {},
   "outputs": [],
   "source": [
    "button_layout = widgets.Layout(width='128px', height='64px')\n",
    "free_button = widgets.Button(description='add free', button_style='primary', layout=button_layout)\n",
    "block_button = widgets.Button(description='add block', button_style='warning', layout=button_layout)\n",
    "free_count = widgets.IntText(value=len(os.listdir(free_dir)),layout=button_layout)\n",
    "block_count = widgets.IntText(value=len(os.listdir(block_dir)),layout=button_layout)"
   ]
  },
  {
   "cell_type": "code",
   "execution_count": 5,
   "metadata": {},
   "outputs": [],
   "source": [
    "def xy_uuid(x, y):\n",
    "    return 'xy_%03d_%03d_%s' % (x * 224 / 2 + 224 / 2, y * 224 / 2 + 224 / 2, uuid1())\n",
    "\n",
    "def save_snapshot(directory):\n",
    "    uuid = xy_uuid((leftBottom.value + leftTop.value + rightBottom.value + rightTop.value) / 4, 0)\n",
    "    image_path = os.path.join(directory, uuid + '.jpg')\n",
    "    with open(image_path, 'wb') as f:\n",
    "        f.write(image_widget.value)\n",
    "        \n",
    "def save_free():\n",
    "    global free_dir, free_count\n",
    "    save_snapshot(free_dir)\n",
    "    free_count.value=len(os.listdir(free_dir))\n",
    "    # print('free picture(s) ' + len(os.listdir(free_dir)))\n",
    "    \n",
    "def save_block():\n",
    "    global block_dir, block_count\n",
    "    save_snapshot(block_dir)\n",
    "    block_count.value=len(os.listdir(block_dir))\n",
    "    # print('block picture(s) ' + len(os.listdir(block_dir)))\n",
    "\n",
    "free_button.on_click(lambda x:save_free())\n",
    "block_button.on_click(lambda x:save_block()) "
   ]
  },
  {
   "cell_type": "code",
   "execution_count": 6,
   "metadata": {},
   "outputs": [
    {
     "data": {
      "application/vnd.jupyter.widget-view+json": {
       "model_id": "ff4398af420f4ee8bcd34789e56a140a",
       "version_major": 2,
       "version_minor": 0
      },
      "text/plain": [
       "HBox(children=(Image(value=b'\\xff\\xd8\\xff\\xe0\\x00\\x10JFIF\\x00\\x01\\x01\\x00\\x00\\x01\\x00\\x01\\x00\\x00\\xff\\xdb\\x00C…"
      ]
     },
     "metadata": {},
     "output_type": "display_data"
    },
    {
     "data": {
      "application/vnd.jupyter.widget-view+json": {
       "model_id": "f94804cce66a4507a38ff2b40d5d9282",
       "version_major": 2,
       "version_minor": 0
      },
      "text/plain": [
       "HBox(children=(VBox(children=(FloatSlider(value=0.0, description='leftTop', max=2.0, min=-2.0, step=0.01), Flo…"
      ]
     },
     "metadata": {},
     "output_type": "display_data"
    },
    {
     "data": {
      "application/vnd.jupyter.widget-view+json": {
       "model_id": "bde17b4df5414d97aa96dd3759040914",
       "version_major": 2,
       "version_minor": 0
      },
      "text/plain": [
       "VBox(children=(HBox(children=(IntText(value=1398, layout=Layout(height='64px', width='128px')), IntText(value=…"
      ]
     },
     "metadata": {},
     "output_type": "display_data"
    }
   ],
   "source": [
    "# display(widgets.HBox([image_widget, target_widget]))\n",
    "display(widgets.HBox([image_widget, target_widget]))\n",
    "# display(target_widget)\n",
    "display(widgets.HBox([widgets.VBox([leftTop, leftBottom]), widgets.VBox([rightTop, rightBottom])]))\n",
    "\n",
    "display(widgets.VBox([widgets.HBox([free_count, block_count]), widgets.HBox([free_button, block_button])]))\n",
    "\n",
    "# display(widgets.HBox([free_button, block_button]))\n",
    "\n",
    "\n",
    "# display(free_count)\n",
    "# display(free_button)\n",
    "# display(block_button)"
   ]
  },
  {
   "cell_type": "code",
   "execution_count": null,
   "metadata": {},
   "outputs": [],
   "source": [
    "print('block picture(s) ' + str(len(os.listdir(block_dir))))\n",
    "print('free picture(s) ' + str(len(os.listdir(free_dir))))"
   ]
  },
  {
   "cell_type": "code",
   "execution_count": 7,
   "metadata": {},
   "outputs": [],
   "source": [
    "camera.stop()"
   ]
  },
  {
   "cell_type": "markdown",
   "metadata": {},
   "source": [
    "**<font size = 5>Use Zip to low store total directory</font>**"
   ]
  },
  {
   "cell_type": "code",
   "execution_count": 2,
   "metadata": {},
   "outputs": [],
   "source": [
    "DATASET_DIR = 'dataset_merge_v2'\n",
    "\n",
    "\n",
    "!zip -r -q {DATASET_DIR}.zip {DATASET_DIR}"
   ]
  },
  {
   "cell_type": "code",
   "execution_count": null,
   "metadata": {},
   "outputs": [],
   "source": [
    "import cv2\n",
    "import os\n",
    "import numpy as np\n",
    "\n",
    "ORIGINAL_DIR = 'dataset_xy'\n",
    "DATASET_DIR = 'dataset_xy_reduce'\n",
    "try:\n",
    "    os.makedirs(DATASET_DIR)\n",
    "except FileExistsError:\n",
    "    print(\"The directory is exist!!\")\n",
    "\n",
    "    \n",
    "# img = cv2.imread(\"dataset_xy/xy_033_171_45308aac-bdf7-11ec-be0d-16f63a1aa8c9.jpg\", 0)\n",
    "# img = cv2.medianBlur(img, 5)\n",
    "# img = cv2.adaptiveThreshold(img, 255, cv2.ADAPTIVE_THRESH_GAUSSIAN_C, cv2.THRESH_BINARY, 11, -1)\n",
    "# cv2.imwrite(DATASET_DIR + \"/\"  + \"xy_033_171_45308aac-bdf7-11ec-be0d-16f63a1aa8c9\" + \".jpg\", img)    \n",
    "\n",
    "kernel = np.ones((3,3), np.uint8)\n",
    "for image in os.listdir(ORIGINAL_DIR):\n",
    "    # pass\n",
    "    img = cv2.imread(ORIGINAL_DIR + \"/\" + image, 0)\n",
    "    img = cv2.medianBlur(img, 5)\n",
    "    img = cv2.adaptiveThreshold(img, 255, cv2.ADAPTIVE_THRESH_GAUSSIAN_C, cv2.THRESH_BINARY, 11, -1)\n",
    "    \n",
    "    img = cv2.erode(img, kernel, iterations = 1)\n",
    "    img = cv2.dilate(img, kernel, iterations = 1)\n",
    "    \n",
    "    cv2.imwrite(DATASET_DIR + \"/\" + image, img)\n",
    "  "
   ]
  }
 ],
 "metadata": {
  "kernelspec": {
   "display_name": "Python 3",
   "language": "python",
   "name": "python3"
  },
  "language_info": {
   "codemirror_mode": {
    "name": "ipython",
    "version": 3
   },
   "file_extension": ".py",
   "mimetype": "text/x-python",
   "name": "python",
   "nbconvert_exporter": "python",
   "pygments_lexer": "ipython3",
   "version": "3.6.9"
  }
 },
 "nbformat": 4,
 "nbformat_minor": 4
}
